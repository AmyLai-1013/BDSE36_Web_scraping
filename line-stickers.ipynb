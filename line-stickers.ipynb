{
 "cells": [
  {
   "cell_type": "code",
   "execution_count": 6,
   "metadata": {},
   "outputs": [
    {
     "name": "stdout",
     "output_type": "stream",
     "text": [
      "貼圖ID: 733090161\n",
      "貼圖ID: 733090162\n",
      "貼圖ID: 733090163\n",
      "貼圖ID: 733090164\n",
      "貼圖ID: 733090165\n",
      "貼圖ID: 733090166\n",
      "貼圖ID: 733090167\n",
      "貼圖ID: 733090168\n",
      "貼圖ID: 733090169\n",
      "貼圖ID: 733090170\n",
      "貼圖ID: 733090171\n",
      "貼圖ID: 733090172\n",
      "貼圖ID: 733090173\n",
      "貼圖ID: 733090174\n",
      "貼圖ID: 733090175\n",
      "貼圖ID: 733090176\n",
      "貼圖ID: 733090177\n",
      "貼圖ID: 733090178\n",
      "貼圖ID: 733090179\n",
      "貼圖ID: 733090180\n",
      "貼圖ID: 733090181\n",
      "貼圖ID: 733090182\n",
      "貼圖ID: 733090183\n",
      "貼圖ID: 733090184\n"
     ]
    }
   ],
   "source": [
    "import requests as req\n",
    "import os, json\n",
    "from bs4 import BeautifulSoup as bs\n",
    "\n",
    "# 建立儲存圖片的資料夾，不存在就新增\n",
    "folderPath = 'line_stickers'\n",
    "if not os.path.exists(folderPath):\n",
    "    os.makedirs(folderPath)\n",
    "\n",
    "#放貼圖資訊用\n",
    "list_line_stickers = []\n",
    "\n",
    "# 官方 LINE 貼圖的網址\n",
    "url = 'https://store.line.me/stickershop/product/33525/zh-Hant'\n",
    "\n",
    "# 將自訂標頭加入 GET 請求中\n",
    "res = req.get(url)\n",
    "\n",
    "# 建立 soup 物件\n",
    "soup = bs(res.text, 'lxml')\n",
    "\n",
    "# 取得放置貼圖的 li 元素 (list 型態)\n",
    "li_elements = soup.select(\n",
    "    'ul.mdCMN09Ul.FnStickerList > li.mdCMN09Li.FnStickerPreviewItem'\n",
    "    )\n",
    "\n",
    "# 逐一取得 li 元素中的 data-preview 資訊\n",
    "for li in li_elements:\n",
    "    # 取得 data-preview 屬性的值(字串)\n",
    "    strJson = li['data-preview'] # 另一種寫法：li.get(\"data-preview\")\n",
    "\n",
    "    #把屬性的值(字串)轉成物件\n",
    "    obj = json.loads(strJson)\n",
    "\n",
    "    # 將重要資訊放置在 list 當中，幫助我們稍候進行資料下載與儲存\n",
    "    list_line_stickers.append(obj)\n",
    "\n",
    "# 下載圖片\n",
    "for obj in list_line_stickers:\n",
    "    os.system( # 模擬用程式下指令\n",
    "        f\"curl {obj['soundUrl']} -o {folderPath}/{obj['id']}.m4a\"\n",
    "    ) # -o 另存新檔\n",
    "    print(f\"貼圖ID: {obj['id']}\")\n"
   ]
  }
 ],
 "metadata": {
  "kernelspec": {
   "display_name": "web_scraping",
   "language": "python",
   "name": "python3"
  },
  "language_info": {
   "codemirror_mode": {
    "name": "ipython",
    "version": 3
   },
   "file_extension": ".py",
   "mimetype": "text/x-python",
   "name": "python",
   "nbconvert_exporter": "python",
   "pygments_lexer": "ipython3",
   "version": "3.10.15"
  }
 },
 "nbformat": 4,
 "nbformat_minor": 2
}
