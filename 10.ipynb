{
 "cells": [
  {
   "cell_type": "code",
   "execution_count": null,
   "metadata": {},
   "outputs": [
    {
     "name": "stdout",
     "output_type": "stream",
     "text": [
      "求職職涯學生學生高階中高齡Foreigners企業徵才企業會員登入招募管理首頁新客戶註冊\n"
     ]
    }
   ],
   "source": [
    "# 操作 browser 的 API\n",
    "# from selenium.webdriver.chrome.service import Service\n",
    "from selenium import webdriver\n",
    "\n",
    "# 匯入套件\n",
    "from bs4 import BeautifulSoup as bs\n",
    "\n",
    "# 強制等待 (執行期間休息一下)\n",
    "from time import sleep\n",
    "\n",
    "# 補充: 若沒有特別設定，只要電腦有安裝 Chrome，就可以直接使用\n",
    "driver = webdriver.Chrome()\n",
    "\n",
    "# 開啟 104人力行銀 首頁\n",
    "driver.get(\"https://www.104.com.tw/jobs/main/\")\n",
    "\n",
    "# 取得檢視原始碼的內容\n",
    "html = driver.page_source\n",
    "\n",
    "# 指定 lxml 作為解析器\n",
    "soup = bs(html, \"lxml\")\n",
    "\n",
    "# 取得元素\n",
    "div = soup.select('div.header__container')[0]\n",
    "\n",
    "# 顯示內文\n",
    "print(div.get_text())\n",
    "\n",
    "# 關閉瀏覽器\n",
    "driver.quit()\n"
   ]
  }
 ],
 "metadata": {
  "kernelspec": {
   "display_name": "web_scraping",
   "language": "python",
   "name": "python3"
  },
  "language_info": {
   "codemirror_mode": {
    "name": "ipython",
    "version": 3
   },
   "file_extension": ".py",
   "mimetype": "text/x-python",
   "name": "python",
   "nbconvert_exporter": "python",
   "pygments_lexer": "ipython3",
   "version": "3.10.15"
  }
 },
 "nbformat": 4,
 "nbformat_minor": 2
}
