{
 "cells": [
  {
   "cell_type": "code",
   "execution_count": 1,
   "metadata": {},
   "outputs": [],
   "source": [
    "# 匯入 regex 套件\n",
    "import re"
   ]
  },
  {
   "cell_type": "code",
   "execution_count": 2,
   "metadata": {},
   "outputs": [
    {
     "name": "stdout",
     "output_type": "stream",
     "text": [
      "<re.Match object; span=(0, 10), match='2024/09/18'>\n",
      "2024/09/18\n",
      "18\n"
     ]
    }
   ],
   "source": [
    "regex01 = r'2[0-9]{3}\\/[01]?[0-9]{1}\\/([0-3]?[0-9])' # 正規表達式\n",
    "string01 = \"2024/09/18\"\n",
    "\n",
    "# re.match 會從字串的「開頭」開始比對，比對不到，則回傳 None\n",
    "match01 = re.match(regex01, string01) \n",
    "\n",
    "print(match01)\n",
    "\n",
    "# print(match01[0]) # 完整配對結果\n",
    "# print(match01[1]) # 顯示第一個group\n",
    "print(match01.group(0)) # 完整配對結果\n",
    "print(match01.group(1)) # 顯示第一個group"
   ]
  },
  {
   "cell_type": "code",
   "execution_count": 3,
   "metadata": {},
   "outputs": [
    {
     "name": "stdout",
     "output_type": "stream",
     "text": [
      "['0911111111', '0922222222', '0933333333']\n",
      "0922222222\n",
      "['1', '2', '3']\n"
     ]
    }
   ],
   "source": [
    "regex02 = r'[0-9]+'\n",
    "string02 = \"0911111111, 0922222222, 0933333333\"\n",
    "\n",
    "# re.findall 會將所有配對到的字串回傳成一個 list\n",
    "listMatch02 = re.findall(regex02, string02)\n",
    "\n",
    "regex02_1 = r'[0-9]{9}(\\d)'\n",
    "listMatch02_1 = re.findall(regex02_1, string02)\n",
    "\n",
    "print(listMatch02) # 是一個list\n",
    "print(listMatch02[1])\n",
    "\n",
    "print(listMatch02_1) # 只會回傳group的部分"
   ]
  },
  {
   "cell_type": "code",
   "execution_count": 4,
   "metadata": {},
   "outputs": [
    {
     "name": "stdout",
     "output_type": "stream",
     "text": [
      "<re.Match object; span=(0, 10), match='0911111111'>\n",
      "<re.Match object; span=(12, 22), match='0922222222'>\n",
      "<re.Match object; span=(24, 34), match='0933333333'>\n"
     ]
    }
   ],
   "source": [
    "regex03 = r'[0-9]+'\n",
    "string03 = \"0911111111, 0922222222, 0933333333\"\n",
    "\n",
    "# re.finditer 會將所有配對到的字串以迭代的方式呈現，若沒有配對到，則回傳 None\n",
    "iterMatch03 = re.finditer(regex03, string03)\n",
    "\n",
    "if iterMatch03 != None:\n",
    "    for match in iterMatch03:\n",
    "        print(match)\n",
    "        # print(match[0])"
   ]
  },
  {
   "cell_type": "code",
   "execution_count": 5,
   "metadata": {},
   "outputs": [
    {
     "name": "stdout",
     "output_type": "stream",
     "text": [
      "A123456789\n",
      "1\n"
     ]
    }
   ],
   "source": [
    "regex04 = r'[a-zA-Z]([12])\\d{8}'\n",
    "string04 = \"A123456789, S299888777\"\n",
    "\n",
    "# re.search 會將整個字串進行搜尋，但只會比對到第一組，比對不到，則回傳 None\n",
    "match04 = re.search(regex04, string04) \n",
    "\n",
    "print(match04[0])\n",
    "print(match04[1])"
   ]
  },
  {
   "cell_type": "code",
   "execution_count": 23,
   "metadata": {},
   "outputs": [
    {
     "name": "stdout",
     "output_type": "stream",
     "text": [
      "['One', 'Two', 'Three', 'Four', '']\n"
     ]
    }
   ],
   "source": [
    "regex05 = r'\\d'\n",
    "string05 = \"One1Two2Three3Four4\"\n",
    "\n",
    "# re.split 類似 string.split('separator')，只是用正規表達式來作為separator，並回傳 list\n",
    "listMatch05 = re.split(regex05, string05)\n",
    "\n",
    "print(listMatch05)\n"
   ]
  },
  {
   "cell_type": "code",
   "execution_count": 24,
   "metadata": {},
   "outputs": [
    {
     "name": "stdout",
     "output_type": "stream",
     "text": [
      "5201314\n"
     ]
    }
   ],
   "source": [
    "regex06 = r\"\\D\" # 選非數字的部分\n",
    "string06 = \"5-20 #1314\"\n",
    "\n",
    "# re.sub(regex, replace_string, test_string)將 regex 所代表的文字，改成 replace_string，文字來源是 test_string\n",
    "strResult = re.sub(regex06, \"\", string06) # 用\"\"內的東西把非數字的全取代掉\n",
    "\n",
    "print(strResult)"
   ]
  },
  {
   "cell_type": "code",
   "execution_count": 25,
   "metadata": {},
   "outputs": [
    {
     "name": "stdout",
     "output_type": "stream",
     "text": [
      "一天一蘋果醫生遠離我。An apple a day keeps the doctor away.\n"
     ]
    }
   ],
   "source": [
    "# 環視\n",
    "regex07 = r\"\\s(?![a-zA-Z])\" # 也可以寫成 r\"(?<![a-zA-Z])\\s\" 選到中文字中間的空白\n",
    "string07 = \"一 天 一 蘋 果 醫 生 遠 離 我。An apple a day keeps the doctor away.\"\n",
    "\n",
    "strResult = re.sub(regex07, \"\", string07)\n",
    "print(strResult)\n",
    "\n"
   ]
  },
  {
   "cell_type": "code",
   "execution_count": null,
   "metadata": {},
   "outputs": [
    {
     "name": "stdout",
     "output_type": "stream",
     "text": [
      "123,456,789,000\n"
     ]
    }
   ],
   "source": [
    "# 環視 (加入千分位)\n",
    "regex08 = r'(?<=\\d)(?=(\\d{3})+\\b)' \n",
    "string08 = '123456789000'\n",
    "\n",
    "strResult = re.sub(regex08, ',', string08)\n",
    "print(strResult)\n"
   ]
  },
  {
   "cell_type": "code",
   "execution_count": 36,
   "metadata": {},
   "outputs": [
    {
     "name": "stdout",
     "output_type": "stream",
     "text": [
      "1\n"
     ]
    }
   ],
   "source": [
    "regex09 = '[A-Z](?P<gender>[12])\\d{8}'\n",
    "\n",
    "string09 = \"A100000001\"\n",
    "match09 = re.match(regex09, string09)\n",
    "print(match09['gender'])\n"
   ]
  }
 ],
 "metadata": {
  "kernelspec": {
   "display_name": "web_scraping",
   "language": "python",
   "name": "python3"
  },
  "language_info": {
   "codemirror_mode": {
    "name": "ipython",
    "version": 3
   },
   "file_extension": ".py",
   "mimetype": "text/x-python",
   "name": "python",
   "nbconvert_exporter": "python",
   "pygments_lexer": "ipython3",
   "version": "3.10.15"
  }
 },
 "nbformat": 4,
 "nbformat_minor": 2
}
