{
 "cells": [
  {
   "cell_type": "code",
   "execution_count": null,
   "metadata": {},
   "outputs": [],
   "source": [
    "# 操作 browser 的 API\n",
    "from selenium import webdriver\n",
    "from selenium.webdriver.chrome.service import Service\n",
    "\n",
    "# 處理逾時例外的工具\n",
    "from selenium.common.exceptions import TimeoutException\n",
    "\n",
    "# 面對動態網頁，等待某個元素出現的工具，通常與 exptected_conditions 搭配\n",
    "from selenium.webdriver.support.ui import WebDriverWait\n",
    "\n",
    "# 搭配 WebDriverWait 使用，對元素狀態的一種期待條件，若條件發生，則等待結束，往下一行執行\n",
    "from selenium.webdriver.support import expected_conditions as EC\n",
    "\n",
    "# 期待元素出現要透過什麼方式指定，通常與 EC、WebDriverWait 一起使用\n",
    "from selenium.webdriver.common.by import By\n",
    "\n",
    "\n",
    "# 啟動瀏覽器工具的選項\n",
    "my_options = webdriver.ChromeOptions()\n",
    "# my_options.add_argument(\"--headless\")                \n",
    "my_options.add_argument(\"--start-maximized\")         \n",
    "my_options.add_argument(\"--incognito\")               \n",
    "my_options.add_argument(\"--disable-popup-blocking\") \n",
    "my_options.add_argument(\"--disable-notifications\")  \n",
    "my_options.add_argument(\"--lang=zh-TW\")  \n",
    "\n",
    "# 使用 Chrome 的 WebDriver\n",
    "driver = webdriver.Chrome(\n",
    "    options = my_options\n",
    ")\n",
    "\n",
    "# 儲存資料的變數\n",
    "list_data = []"
   ]
  },
  {
   "cell_type": "code",
   "execution_count": 6,
   "metadata": {},
   "outputs": [],
   "source": [
    "# 連續開 2 個分頁\n",
    "for i in range(2):\n",
    "    driver.execute_script(f'window.open(\"\")')"
   ]
  },
  {
   "cell_type": "code",
   "execution_count": 10,
   "metadata": {},
   "outputs": [],
   "source": [
    "# 切換到初始分頁 (索引為 0)\n",
    "driver.switch_to.window(\n",
    "    driver.window_handles[0]\n",
    ")"
   ]
  },
  {
   "cell_type": "code",
   "execution_count": 12,
   "metadata": {},
   "outputs": [],
   "source": [
    "# 將所有 tabs 轉址，以便取得對應列表\n",
    "for index in range(1, len(driver.window_handles)):\n",
    "    # 切換分頁\n",
    "    driver.switch_to.window(\n",
    "        driver.window_handles[index]\n",
    "    )\n",
    "\n",
    "    # 使分頁自動連結到指定網址 (此時的 drive 變數指向切後的分頁)\n",
    "    driver.get(f\"https://web-ch.scu.edu.tw/chinese/file/3423?page={index}\")\n",
    "\n",
    "    # 取得列表連結與內文\n",
    "    for a in driver.find_elements(\n",
    "        By.CSS_SELECTOR, 'table.table-striped.table-border tbody tr a'):\n",
    "        list_data.append({\n",
    "            'title': a.get_attribute('innerText'),\n",
    "            'link': a.get_attribute('href')\n",
    "        })\n",
    "    "
   ]
  },
  {
   "cell_type": "code",
   "execution_count": 13,
   "metadata": {},
   "outputs": [],
   "source": [
    "# 讀最後一頁開始，把所有分頁關掉 (初始頁要保留)\n",
    "while len(driver.window_handles) > 1:\n",
    "    # 切換分頁\n",
    "    driver.switch_to.window(\n",
    "        driver.window_handles[\n",
    "            len(driver.window_handles) - 1\n",
    "        ]\n",
    "    )\n",
    "\n",
    "    # 關閉分頁 (與 driver.quit() 不同)\n",
    "    driver.close()"
   ]
  },
  {
   "cell_type": "code",
   "execution_count": 14,
   "metadata": {},
   "outputs": [],
   "source": [
    "# 關閉瀏覽器\n",
    "driver.quit()"
   ]
  },
  {
   "cell_type": "code",
   "execution_count": 15,
   "metadata": {},
   "outputs": [
    {
     "data": {
      "text/plain": [
       "[{'title': '《東吳中文學報》第46期',\n",
       "  'link': 'https://web-ch.scu.edu.tw/chinese/file/3423/14878'},\n",
       " {'title': '《東吳中文學報》第45期',\n",
       "  'link': 'https://web-ch.scu.edu.tw/chinese/file/3423/14147'},\n",
       " {'title': '《東吳中文學報》第44期',\n",
       "  'link': 'https://web-ch.scu.edu.tw/chinese/file/3423/13608'},\n",
       " {'title': '《東吳中文學報》第43期',\n",
       "  'link': 'https://web-ch.scu.edu.tw/chinese/file/3423/12516'},\n",
       " {'title': '《東吳中文學報》第42期',\n",
       "  'link': 'https://web-ch.scu.edu.tw/chinese/file/3423/11777'},\n",
       " {'title': '《東吳中文學報》第41期',\n",
       "  'link': 'https://web-ch.scu.edu.tw/chinese/file/3423/11013'},\n",
       " {'title': '《東吳中文學報》第40期',\n",
       "  'link': 'https://web-ch.scu.edu.tw/chinese/file/3423/10279'},\n",
       " {'title': '《東吳中文學報》第39期',\n",
       "  'link': 'https://web-ch.scu.edu.tw/chinese/file/3423/9564'},\n",
       " {'title': '《東吳中文學報》第38期',\n",
       "  'link': 'https://web-ch.scu.edu.tw/chinese/file/3423/9004'},\n",
       " {'title': '《東吳中文學報》第37期',\n",
       "  'link': 'https://web-ch.scu.edu.tw/chinese/file/3423/8765'},\n",
       " {'title': '《東吳中文學報》第36期',\n",
       "  'link': 'https://web-ch.scu.edu.tw/chinese/file/3423/7834'},\n",
       " {'title': '《東吳中文學報》第35期',\n",
       "  'link': 'https://web-ch.scu.edu.tw/chinese/file/3423/6781'},\n",
       " {'title': '《東吳中文學報》第34期',\n",
       "  'link': 'https://web-ch.scu.edu.tw/chinese/file/3423/6242'},\n",
       " {'title': '《東吳中文學報》第33期',\n",
       "  'link': 'https://web-ch.scu.edu.tw/chinese/file/3423/5327'},\n",
       " {'title': '《東吳中文學報》第32期',\n",
       "  'link': 'https://web-ch.scu.edu.tw/chinese/file/3423/4631'},\n",
       " {'title': '《東吳中文學報》第31期',\n",
       "  'link': 'https://web-ch.scu.edu.tw/chinese/file/3423/2851'},\n",
       " {'title': '《東吳中文學報》第30期',\n",
       "  'link': 'https://web-ch.scu.edu.tw/chinese/file/3423/2850'},\n",
       " {'title': '《東吳中文學報》第29期',\n",
       "  'link': 'https://web-ch.scu.edu.tw/chinese/file/3423/2849'},\n",
       " {'title': '《東吳中文學報》第28期',\n",
       "  'link': 'https://web-ch.scu.edu.tw/chinese/file/3423/2848'},\n",
       " {'title': '《東吳中文學報》第27期',\n",
       "  'link': 'https://web-ch.scu.edu.tw/chinese/file/3423/2847'}]"
      ]
     },
     "execution_count": 15,
     "metadata": {},
     "output_type": "execute_result"
    }
   ],
   "source": [
    "# 預覽結果\n",
    "list_data"
   ]
  }
 ],
 "metadata": {
  "kernelspec": {
   "display_name": "web_scraping",
   "language": "python",
   "name": "python3"
  },
  "language_info": {
   "codemirror_mode": {
    "name": "ipython",
    "version": 3
   },
   "file_extension": ".py",
   "mimetype": "text/x-python",
   "name": "python",
   "nbconvert_exporter": "python",
   "pygments_lexer": "ipython3",
   "version": "3.10.15"
  }
 },
 "nbformat": 4,
 "nbformat_minor": 2
}
