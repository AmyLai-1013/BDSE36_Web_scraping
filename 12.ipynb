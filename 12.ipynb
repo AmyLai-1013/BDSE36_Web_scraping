{
 "cells": [
  {
   "cell_type": "code",
   "execution_count": null,
   "metadata": {},
   "outputs": [],
   "source": [
    "!pip install webdriver-manage"
   ]
  },
  {
   "cell_type": "code",
   "execution_count": 1,
   "metadata": {},
   "outputs": [],
   "source": [
    "# 匯入套件\n",
    "from selenium import webdriver\n",
    "from selenium.webdriver.chrome.service import Service\n",
    "# from webdriver_manager.chrome import ChromeDriverManager\n",
    "from selenium.common.exceptions import TimeoutException, NoSuchElementException\n",
    "from selenium.webdriver.support.ui import WebDriverWait\n",
    "from selenium.webdriver.support import expected_conditions as EC\n",
    "from selenium.webdriver.common.by import By\n",
    "from time import sleep"
   ]
  },
  {
   "cell_type": "code",
   "execution_count": null,
   "metadata": {},
   "outputs": [],
   "source": [
    "# (Optional) 開啟用於自動控制的瀏覽器 (自動取得 Chrome 的 WebDriver)\n",
    "# driver = webdriver.Chrome(\n",
    "#     service = Service(ChromeDriverManager().install())\n",
    "# )"
   ]
  },
  {
   "cell_type": "code",
   "execution_count": null,
   "metadata": {},
   "outputs": [],
   "source": [
    "'''\n",
    "強制等待\n",
    "'''\n",
    "# 開啟用於自動控制的瀏覽器\n",
    "driver = webdriver.Chrome()\n",
    "\n",
    "try:\n",
    "    # 走訪網址\n",
    "    driver.get('https://tw.yahoo.com/')\n",
    "    \n",
    "    # 強制等待 3 秒\n",
    "    sleep(3)\n",
    "    \n",
    "    # 印出網址\n",
    "    print(driver.current_url)\n",
    "except:\n",
    "    print(\"程式出錯!\")\n",
    "finally:\n",
    "    # 關閉瀏覽器\n",
    "    driver.quit()"
   ]
  },
  {
   "cell_type": "code",
   "execution_count": 3,
   "metadata": {},
   "outputs": [
    {
     "name": "stdout",
     "output_type": "stream",
     "text": [
      "找不到元素!\n"
     ]
    }
   ],
   "source": [
    "'''\n",
    "隱性等待\n",
    "'''\n",
    "# 開啟用於自動控制的瀏覽器\n",
    "driver = webdriver.Chrome()\n",
    "\n",
    "try:\n",
    "    # 最多等 15 秒\n",
    "    driver.implicitly_wait(15)\n",
    "    \n",
    "    # 走訪網址\n",
    "    driver.get('https://tw.yahoo.com/')\n",
    "    \n",
    "    # 取得元素\n",
    "    element = driver.find_element(\n",
    "        By.CSS_SELECTOR, \n",
    "        'a#header-logoo'\n",
    "    )\n",
    "\n",
    "    # 印出超連結 ( 透過 .get_attribute('屬性') 來取得屬性的值 )\n",
    "    print(element.get_attribute('href'))\n",
    "except NoSuchElementException:\n",
    "    print(\"找不到元素!\")\n",
    "finally:\n",
    "    # 關閉瀏覽器\n",
    "    driver.quit()"
   ]
  },
  {
   "cell_type": "code",
   "execution_count": null,
   "metadata": {},
   "outputs": [],
   "source": [
    "'''\n",
    "顯性等待\n",
    "'''\n",
    "# 開啟用於自動控制的瀏覽器\n",
    "driver = webdriver.Chrome()\n",
    "\n",
    "try:\n",
    "    # 走訪網址\n",
    "    driver.get('https://www.youtube.com/?gl=TW')\n",
    "\n",
    "    # 滿足條件（10秒內找到元素），則往下一步\n",
    "    WebDriverWait(driver, 10).until(\n",
    "        EC.presence_of_element_located( \n",
    "            (By.LINK_TEXT, '首頁') \n",
    "        )\n",
    "    )\n",
    "    \n",
    "    # 印出首頁連結\n",
    "    link = driver.find_element(\n",
    "        By.LINK_TEXT, '首頁'\n",
    "    ).get_attribute('href')\n",
    "    print(link)\n",
    "    \n",
    "except TimeoutException:\n",
    "    print('等待逾時！')\n",
    "finally:\n",
    "    # 關閉瀏覽器\n",
    "    driver.quit()"
   ]
  }
 ],
 "metadata": {
  "kernelspec": {
   "display_name": "web_scraping",
   "language": "python",
   "name": "python3"
  },
  "language_info": {
   "codemirror_mode": {
    "name": "ipython",
    "version": 3
   },
   "file_extension": ".py",
   "mimetype": "text/x-python",
   "name": "python",
   "nbconvert_exporter": "python",
   "pygments_lexer": "ipython3",
   "version": "3.10.15"
  }
 },
 "nbformat": 4,
 "nbformat_minor": 2
}
